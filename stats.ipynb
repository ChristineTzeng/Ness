{
 "cells": [
  {
   "cell_type": "code",
   "execution_count": 4,
   "metadata": {},
   "outputs": [],
   "source": [
    "import csv\n",
    "import numpy as np, pandas as pd\n",
    "from scipy import stats\n",
    "from math import sqrt\n",
    "import statistics"
   ]
  },
  {
   "cell_type": "code",
   "execution_count": 5,
   "metadata": {},
   "outputs": [],
   "source": [
    "env_path = ''\n",
    "logs_path = env_path + 'results/'\n",
    "\n",
    "sim_setting = ['primitive', 'sanctioning', 'message_prob' , 'feeling_prob', 'hint_prob']\n",
    "# sim_setting = ['sanction_weighted', 'feeling_weighted', 'message_weighted', 'hint_weighted']"
   ]
  },
  {
   "cell_type": "code",
   "execution_count": 9,
   "metadata": {},
   "outputs": [
    {
     "name": "stdout",
     "output_type": "stream",
     "text": [
      "target_mean 0.21786606696651675 target_std 2.103173053757815\n"
     ]
    }
   ],
   "source": [
    "# distributed_dataframe = pd.read_csv(logs_path + 'distributed.csv', error_bad_lines = False)\n",
    "primitive_dataframe = pd.read_csv(logs_path + 'primitive.csv')\n",
    "sanctioning_dataframe = pd.read_csv(logs_path + 'sanctioning.csv')\n",
    "\n",
    "message_dataframe = pd.read_csv(logs_path + 'message_prob.csv')\n",
    "emotion_dataframe = pd.read_csv(logs_path + 'feeling_prob.csv')\n",
    "ness_dataframe = pd.read_csv(logs_path + 'hint_prob.csv')\n",
    "\n",
    "# infected\n",
    "# healthy\n",
    "# deceased\n",
    "# vaccinated\n",
    "# forced_quarantine\n",
    "# isolation\n",
    "# desire_satisfaction\n",
    "# total_number_infections\n",
    "\n",
    "attribute = 'infected'\n",
    "target_df = ness_dataframe\n",
    "target_std, target_mean = statistics.stdev(target_df[attribute]), statistics.mean(target_df[attribute])\n",
    "\n",
    "print('target_mean', target_mean, 'target_std', target_std)"
   ]
  },
  {
   "cell_type": "code",
   "execution_count": 10,
   "metadata": {},
   "outputs": [
    {
     "name": "stdout",
     "output_type": "stream",
     "text": [
      "primitive_dataframe controled_mean 13.289235771893281 controled_std 13.48403303221716\n",
      "sanctioning_dataframe controled_mean 2.647976011994003 controled_std 9.162675763739776\n",
      "message_dataframe controled_mean 2.9587456271864068 controled_std 9.836544539408242\n"
     ]
    }
   ],
   "source": [
    "controled_df = primitive_dataframe\n",
    "controled_std, controled_mean = statistics.stdev(controled_df[attribute]), statistics.mean(controled_df[attribute])\n",
    "print('primitive_dataframe', 'controled_mean', controled_mean, 'controled_std', controled_std)\n",
    "controled_df = sanctioning_dataframe\n",
    "controled_std, controled_mean = statistics.stdev(controled_df[attribute]), statistics.mean(controled_df[attribute])\n",
    "print('sanctioning_dataframe', 'controled_mean', controled_mean, 'controled_std', controled_std)\n",
    "# controled_df = emotion_dataframe\n",
    "# controled_std, controled_mean = statistics.stdev(controled_df[attribute]), statistics.mean(controled_df[attribute])\n",
    "# print('emotion_dataframe', 'controled_mean', controled_mean, 'controled_std', controled_std)\n",
    "controled_df = message_dataframe\n",
    "controled_std, controled_mean = statistics.stdev(controled_df[attribute]), statistics.mean(controled_df[attribute])\n",
    "print('message_dataframe', 'controled_mean', controled_mean, 'controled_std', controled_std)\n"
   ]
  },
  {
   "cell_type": "code",
   "execution_count": 11,
   "metadata": {},
   "outputs": [
    {
     "name": "stdout",
     "output_type": "stream",
     "text": [
      "delta -0.9693961497791924\n",
      "cohen_d -1.3545552339075313\n",
      "controled_mean 13.289235771893281 controled_std 13.48403303221716\n"
     ]
    },
    {
     "data": {
      "text/plain": [
       "Ttest_indResult(statistic=42.84550491763564, pvalue=0.0)"
      ]
     },
     "execution_count": 11,
     "metadata": {},
     "output_type": "execute_result"
    }
   ],
   "source": [
    "controled_df = primitive_dataframe\n",
    "controled_std, controled_mean = statistics.stdev(controled_df[attribute]), statistics.mean(controled_df[attribute])\n",
    "delta = (target_mean - controled_mean) / controled_std\n",
    "std_pooled = sqrt((target_std ** 2 + controled_std ** 2) / 2)\n",
    "cohen_d = (target_mean - controled_mean) / std_pooled\n",
    "print('delta', delta)\n",
    "print('cohen_d', cohen_d)\n",
    "print('controled_mean', controled_mean, 'controled_std', controled_std)\n",
    "stats.ttest_ind(controled_df[attribute], target_df[attribute], equal_var = True)"
   ]
  },
  {
   "cell_type": "code",
   "execution_count": 12,
   "metadata": {},
   "outputs": [
    {
     "name": "stdout",
     "output_type": "stream",
     "text": [
      "delta -0.26521837154211697\n",
      "cohen_d -0.36556863262640826\n",
      "controled_mean 2.647976011994003 controled_std 9.162675763739776\n"
     ]
    },
    {
     "data": {
      "text/plain": [
       "Ttest_indResult(statistic=11.563184914759514, pvalue=1.920161964502424e-30)"
      ]
     },
     "execution_count": 12,
     "metadata": {},
     "output_type": "execute_result"
    }
   ],
   "source": [
    "controled_df = sanctioning_dataframe\n",
    "controled_std, controled_mean = statistics.stdev(controled_df[attribute]), statistics.mean(controled_df[attribute])\n",
    "delta = (target_mean - controled_mean) / controled_std\n",
    "std_pooled = sqrt((target_std ** 2 + controled_std ** 2) / 2)\n",
    "cohen_d = (target_mean - controled_mean) / std_pooled\n",
    "print('delta', delta)\n",
    "print('cohen_d', cohen_d)\n",
    "print('controled_mean', controled_mean, 'controled_std', controled_std)\n",
    "stats.ttest_ind(controled_df[attribute], target_df[attribute], equal_var = True)"
   ]
  },
  {
   "cell_type": "code",
   "execution_count": 13,
   "metadata": {},
   "outputs": [
    {
     "name": "stdout",
     "output_type": "stream",
     "text": [
      "delta -0.06259877878134346\n",
      "cohen_d -0.07002574984786737\n",
      "controled_mean 0.38808095952023985 controled_std 2.7191407862488983\n"
     ]
    },
    {
     "data": {
      "text/plain": [
       "Ttest_indResult(statistic=2.2149621767824783, pvalue=0.026818800226638028)"
      ]
     },
     "execution_count": 13,
     "metadata": {},
     "output_type": "execute_result"
    }
   ],
   "source": [
    "controled_df = emotion_dataframe\n",
    "controled_std, controled_mean = statistics.stdev(controled_df[attribute]), statistics.mean(controled_df[attribute])\n",
    "delta = (target_mean - controled_mean) / controled_std\n",
    "std_pooled = sqrt((target_std ** 2 + controled_std ** 2) / 2)\n",
    "cohen_d = (target_mean - controled_mean) / std_pooled\n",
    "print('delta', delta)\n",
    "print('cohen_d', cohen_d)\n",
    "print('controled_mean', controled_mean, 'controled_std', controled_std)\n",
    "stats.ttest_ind(controled_df[attribute], target_df[attribute], equal_var = True)"
   ]
  },
  {
   "cell_type": "code",
   "execution_count": 14,
   "metadata": {},
   "outputs": [
    {
     "name": "stdout",
     "output_type": "stream",
     "text": [
      "delta -0.2786425201694638\n",
      "cohen_d -0.38535019543914417\n",
      "controled_mean 2.9587456271864068 controled_std 9.836544539408242\n"
     ]
    },
    {
     "data": {
      "text/plain": [
       "Ttest_indResult(statistic=12.18888922386077, pvalue=1.3942369598777738e-33)"
      ]
     },
     "execution_count": 14,
     "metadata": {},
     "output_type": "execute_result"
    }
   ],
   "source": [
    "controled_df = message_dataframe\n",
    "controled_std, controled_mean = statistics.stdev(controled_df[attribute]), statistics.mean(controled_df[attribute])\n",
    "delta = (target_mean - controled_mean) / controled_std\n",
    "std_pooled = sqrt((target_std ** 2 + controled_std ** 2) / 2)\n",
    "cohen_d = (target_mean - controled_mean) / std_pooled\n",
    "print('delta', delta)\n",
    "print('cohen_d', cohen_d)\n",
    "print('controled_mean', controled_mean, 'controled_std', controled_std)\n",
    "stats.ttest_ind(controled_df[attribute], target_df[attribute], equal_var = True)"
   ]
  }
 ],
 "metadata": {
  "kernelspec": {
   "display_name": "Python 3",
   "language": "python",
   "name": "python3"
  },
  "language_info": {
   "codemirror_mode": {
    "name": "ipython",
    "version": 3
   },
   "file_extension": ".py",
   "mimetype": "text/x-python",
   "name": "python",
   "nbconvert_exporter": "python",
   "pygments_lexer": "ipython3",
   "version": "3.8.10"
  }
 },
 "nbformat": 4,
 "nbformat_minor": 4
}
