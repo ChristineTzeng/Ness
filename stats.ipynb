{
 "cells": [
  {
   "cell_type": "code",
   "execution_count": 69,
   "metadata": {},
   "outputs": [],
   "source": [
    "import csv\n",
    "import numpy as np, pandas as pd\n",
    "from scipy import stats\n",
    "from math import sqrt\n",
    "import statistics"
   ]
  },
  {
   "cell_type": "code",
   "execution_count": 70,
   "metadata": {},
   "outputs": [],
   "source": [
    "env_path = ''\n",
    "logs_path = env_path + 'logs/'\n",
    "\n",
    "sim_setting = ['primitive_prob', 'sanction_prob', 'message_prob' , 'emote_prob', 'hint_prob']\n",
    "# sim_setting = ['sanction_weighted', 'feeling_weighted', 'message_weighted', 'hint_weighted']"
   ]
  },
  {
   "cell_type": "code",
   "execution_count": 71,
   "metadata": {},
   "outputs": [],
   "source": [
    "# distributed_dataframe = pd.read_csv(logs_path + 'distributed.csv', error_bad_lines = False)\n",
    "primitive_dataframe = pd.read_csv(logs_path + 'primitive_prob.csv')\n",
    "sanctioning_dataframe = pd.read_csv(logs_path + 'sanction_prob.csv')\n",
    "\n",
    "message_dataframe = pd.read_csv(logs_path + 'message_prob.csv')\n",
    "# emotion_dataframe = pd.read_csv(logs_path + 'emote_prob.csv')\n",
    "# ness_dataframe = pd.read_csv(logs_path + 'hint_prob.csv')\n",
    "\n",
    "# infected\n",
    "# healthy\n",
    "# deceased\n",
    "# vaccinated\n",
    "# forced_quarantine\n",
    "# isolation\n",
    "# desire_satisfaction\n",
    "# total_number_infections\n",
    "\n",
    "attribute = 'infected'\n",
    "# target_df = ness_dataframe\n",
    "# target_std, target_mean = statistics.stdev(target_df[attribute]), statistics.mean(target_df[attribute])\n",
    "\n",
    "# print('target_mean', target_mean, 'target_std', target_std)"
   ]
  },
  {
   "cell_type": "code",
   "execution_count": 72,
   "metadata": {},
   "outputs": [
    {
     "name": "stdout",
     "output_type": "stream",
     "text": [
      "primitive_dataframe controled_mean 9.461244377811095 controled_std 13.958867468414105\n",
      "sanctioning_dataframe controled_mean 1.275937031484258 controled_std 5.907389604049574\n",
      "message_dataframe controled_mean 1.5454022988505747 controled_std 6.484064030419095\n"
     ]
    }
   ],
   "source": [
    "controled_df = primitive_dataframe\n",
    "controled_std, controled_mean = statistics.stdev(controled_df[attribute]), statistics.mean(controled_df[attribute])\n",
    "print('primitive_dataframe', 'controled_mean', controled_mean, 'controled_std', controled_std)\n",
    "controled_df = sanctioning_dataframe\n",
    "controled_std, controled_mean = statistics.stdev(controled_df[attribute]), statistics.mean(controled_df[attribute])\n",
    "print('sanctioning_dataframe', 'controled_mean', controled_mean, 'controled_std', controled_std)\n",
    "# controled_df = emotion_dataframe\n",
    "# controled_std, controled_mean = statistics.stdev(controled_df[attribute]), statistics.mean(controled_df[attribute])\n",
    "# print('emotion_dataframe', 'controled_mean', controled_mean, 'controled_std', controled_std)\n",
    "controled_df = message_dataframe\n",
    "controled_std, controled_mean = statistics.stdev(controled_df[attribute]), statistics.mean(controled_df[attribute])\n",
    "print('message_dataframe', 'controled_mean', controled_mean, 'controled_std', controled_std)\n"
   ]
  },
  {
   "cell_type": "code",
   "execution_count": 65,
   "metadata": {},
   "outputs": [
    {
     "name": "stdout",
     "output_type": "stream",
     "text": [
      "delta -0.6540456861008647\n",
      "cohen_d -0.9038019999414643\n",
      "controled_mean 10.09887556221889 controled_std 14.756345837808475\n"
     ]
    },
    {
     "data": {
      "text/plain": [
       "Ttest_indResult(statistic=28.58787302556348, pvalue=1.0097445608013687e-163)"
      ]
     },
     "execution_count": 65,
     "metadata": {},
     "output_type": "execute_result"
    }
   ],
   "source": [
    "controled_df = primitive_dataframe\n",
    "controled_std, controled_mean = statistics.stdev(controled_df[attribute]), statistics.mean(controled_df[attribute])\n",
    "delta = (target_mean - controled_mean) / controled_std\n",
    "std_pooled = sqrt((target_std ** 2 + controled_std ** 2) / 2)\n",
    "cohen_d = (target_mean - controled_mean) / std_pooled\n",
    "print('delta', delta)\n",
    "print('cohen_d', cohen_d)\n",
    "print('controled_mean', controled_mean, 'controled_std', controled_std)\n",
    "stats.ttest_ind(controled_df[attribute], target_df[attribute], equal_var = True)"
   ]
  },
  {
   "cell_type": "code",
   "execution_count": 66,
   "metadata": {},
   "outputs": [
    {
     "name": "stdout",
     "output_type": "stream",
     "text": [
      "delta 0.07680529734875187\n",
      "cohen_d 0.06219690311124413\n",
      "controled_mean 0.2752623688155922 controled_std 2.243189747575578\n"
     ]
    },
    {
     "data": {
      "text/plain": [
       "Ttest_indResult(statistic=-1.9673304206481952, pvalue=0.04921413189735871)"
      ]
     },
     "execution_count": 66,
     "metadata": {},
     "output_type": "execute_result"
    }
   ],
   "source": [
    "controled_df = sanctioning_dataframe\n",
    "controled_std, controled_mean = statistics.stdev(controled_df[attribute]), statistics.mean(controled_df[attribute])\n",
    "delta = (target_mean - controled_mean) / controled_std\n",
    "std_pooled = sqrt((target_std ** 2 + controled_std ** 2) / 2)\n",
    "cohen_d = (target_mean - controled_mean) / std_pooled\n",
    "print('delta', delta)\n",
    "print('cohen_d', cohen_d)\n",
    "print('controled_mean', controled_mean, 'controled_std', controled_std)\n",
    "stats.ttest_ind(controled_df[attribute], target_df[attribute], equal_var = True)"
   ]
  },
  {
   "cell_type": "code",
   "execution_count": 67,
   "metadata": {},
   "outputs": [
    {
     "name": "stdout",
     "output_type": "stream",
     "text": [
      "delta 0.2589984372535746\n",
      "cohen_d 0.13026378370673322\n",
      "controled_mean 0.1310344827586207 controled_std 1.222079735250669\n"
     ]
    },
    {
     "data": {
      "text/plain": [
       "Ttest_indResult(statistic=-4.12033222838491, pvalue=3.859841275181151e-05)"
      ]
     },
     "execution_count": 67,
     "metadata": {},
     "output_type": "execute_result"
    }
   ],
   "source": [
    "controled_df = emotion_dataframe\n",
    "controled_std, controled_mean = statistics.stdev(controled_df[attribute]), statistics.mean(controled_df[attribute])\n",
    "delta = (target_mean - controled_mean) / controled_std\n",
    "std_pooled = sqrt((target_std ** 2 + controled_std ** 2) / 2)\n",
    "cohen_d = (target_mean - controled_mean) / std_pooled\n",
    "print('delta', delta)\n",
    "print('cohen_d', cohen_d)\n",
    "print('controled_mean', controled_mean, 'controled_std', controled_std)\n",
    "stats.ttest_ind(controled_df[attribute], target_df[attribute], equal_var = True)"
   ]
  },
  {
   "cell_type": "code",
   "execution_count": 68,
   "metadata": {},
   "outputs": [
    {
     "name": "stdout",
     "output_type": "stream",
     "text": [
      "delta 0.004921378952494045\n",
      "cohen_d 0.004708118494731764\n",
      "controled_mean 0.4330334832583708 controled_std 2.9499335998253096\n"
     ]
    },
    {
     "data": {
      "text/plain": [
       "Ttest_indResult(statistic=-0.14892099566654632, pvalue=0.8816234809134185)"
      ]
     },
     "execution_count": 68,
     "metadata": {},
     "output_type": "execute_result"
    }
   ],
   "source": [
    "controled_df = message_dataframe\n",
    "controled_std, controled_mean = statistics.stdev(controled_df[attribute]), statistics.mean(controled_df[attribute])\n",
    "delta = (target_mean - controled_mean) / controled_std\n",
    "std_pooled = sqrt((target_std ** 2 + controled_std ** 2) / 2)\n",
    "cohen_d = (target_mean - controled_mean) / std_pooled\n",
    "print('delta', delta)\n",
    "print('cohen_d', cohen_d)\n",
    "print('controled_mean', controled_mean, 'controled_std', controled_std)\n",
    "stats.ttest_ind(controled_df[attribute], target_df[attribute], equal_var = True)"
   ]
  },
  {
   "cell_type": "code",
   "execution_count": null,
   "metadata": {},
   "outputs": [],
   "source": []
  },
  {
   "cell_type": "code",
   "execution_count": null,
   "metadata": {},
   "outputs": [],
   "source": []
  },
  {
   "cell_type": "code",
   "execution_count": null,
   "metadata": {},
   "outputs": [],
   "source": []
  },
  {
   "cell_type": "code",
   "execution_count": null,
   "metadata": {},
   "outputs": [],
   "source": []
  }
 ],
 "metadata": {
  "kernelspec": {
   "display_name": "Python 3",
   "language": "python",
   "name": "python3"
  },
  "language_info": {
   "codemirror_mode": {
    "name": "ipython",
    "version": 3
   },
   "file_extension": ".py",
   "mimetype": "text/x-python",
   "name": "python",
   "nbconvert_exporter": "python",
   "pygments_lexer": "ipython3",
   "version": "3.8.10"
  }
 },
 "nbformat": 4,
 "nbformat_minor": 4
}
