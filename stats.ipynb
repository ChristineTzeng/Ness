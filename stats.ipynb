{
 "cells": [
  {
   "cell_type": "code",
   "execution_count": 21,
   "metadata": {},
   "outputs": [],
   "source": [
    "import csv\n",
    "import numpy as np, pandas as pd\n",
    "from scipy import stats\n",
    "from math import sqrt\n",
    "import statistics"
   ]
  },
  {
   "cell_type": "code",
   "execution_count": 22,
   "metadata": {},
   "outputs": [],
   "source": [
    "env_path = ''\n",
    "logs_path = env_path + 'logs/'\n",
    "\n",
    "sim_setting = ['primitive_prob', 'sanction_prob', 'message_prob' , 'emote_prob', 'hint_prob']\n",
    "# sim_setting = ['sanction_weighted', 'feeling_weighted', 'message_weighted', 'hint_weighted']"
   ]
  },
  {
   "cell_type": "code",
   "execution_count": 23,
   "metadata": {},
   "outputs": [
    {
     "name": "stdout",
     "output_type": "stream",
     "text": [
      "target_mean 0.5481509245377312 target_std 3.128774772848055\n"
     ]
    }
   ],
   "source": [
    "# distributed_dataframe = pd.read_csv(logs_path + 'distributed.csv', error_bad_lines = False)\n",
    "primitive_dataframe = pd.read_csv(logs_path + 'primitive_prob.csv')\n",
    "sanctioning_dataframe = pd.read_csv(logs_path + 'sanction_prob.csv')\n",
    "\n",
    "message_dataframe = pd.read_csv(logs_path + 'message_prob.csv')\n",
    "emotion_dataframe = pd.read_csv(logs_path + 'emote_prob.csv')\n",
    "hermione_dataframe = pd.read_csv(logs_path + 'hint_prob.csv')\n",
    "\n",
    "# infected\n",
    "# healthy\n",
    "# deceased\n",
    "# vaccinated\n",
    "# forced_quarantine\n",
    "# isolation\n",
    "# desire_satisfaction\n",
    "# total_number_infections\n",
    "\n",
    "attribute = 'infected'\n",
    "target_df = hermione_dataframe\n",
    "target_std, target_mean = statistics.stdev(target_df[attribute]), statistics.mean(target_df[attribute])\n",
    "\n",
    "print('target_mean', target_mean, 'target_std', target_std)"
   ]
  },
  {
   "cell_type": "code",
   "execution_count": 24,
   "metadata": {},
   "outputs": [
    {
     "name": "stdout",
     "output_type": "stream",
     "text": [
      "primitive_dataframe controled_mean 11.016441779110444\n",
      "sanctioning_dataframe controled_mean 1.2105947026486756\n",
      "emotion_dataframe controled_mean 0.5046226886556722\n",
      "message_dataframe controled_mean 0.5125687156421789\n"
     ]
    }
   ],
   "source": [
    "controled_df = primitive_dataframe\n",
    "controled_std, controled_mean = statistics.stdev(controled_df[attribute]), statistics.mean(controled_df[attribute])\n",
    "print('primitive_dataframe', 'controled_mean', controled_mean)\n",
    "controled_df = sanctioning_dataframe\n",
    "controled_std, controled_mean = statistics.stdev(controled_df[attribute]), statistics.mean(controled_df[attribute])\n",
    "print('sanctioning_dataframe', 'controled_mean', controled_mean)\n",
    "controled_df = emotion_dataframe\n",
    "controled_std, controled_mean = statistics.stdev(controled_df[attribute]), statistics.mean(controled_df[attribute])\n",
    "print('emotion_dataframe', 'controled_mean', controled_mean)\n",
    "controled_df = message_dataframe\n",
    "controled_std, controled_mean = statistics.stdev(controled_df[attribute]), statistics.mean(controled_df[attribute])\n",
    "print('message_dataframe', 'controled_mean', controled_mean)\n"
   ]
  },
  {
   "cell_type": "code",
   "execution_count": 9,
   "metadata": {},
   "outputs": [
    {
     "name": "stdout",
     "output_type": "stream",
     "text": [
      "delta -0.6408211424338301\n",
      "cohen_d -0.8274839766431954\n",
      "controled_mean 11.016441779110444 controled_std 14.48533472284067\n"
     ]
    },
    {
     "data": {
      "text/plain": [
       "Ttest_indResult(statistic=26.173881952569374, pvalue=1.6038633860679474e-139)"
      ]
     },
     "execution_count": 9,
     "metadata": {},
     "output_type": "execute_result"
    }
   ],
   "source": [
    "controled_df = primitive_dataframe\n",
    "controled_std, controled_mean = statistics.stdev(controled_df[attribute]), statistics.mean(controled_df[attribute])\n",
    "delta = (target_mean - controled_mean) / controled_std\n",
    "std_pooled = sqrt((target_std ** 2 + controled_std ** 2) / 2)\n",
    "cohen_d = (target_mean - controled_mean) / std_pooled\n",
    "print('delta', delta)\n",
    "print('cohen_d', cohen_d)\n",
    "print('controled_mean', controled_mean, 'controled_std', controled_std)\n",
    "stats.ttest_ind(controled_df[attribute], target_df[attribute], equal_var = True)"
   ]
  },
  {
   "cell_type": "code",
   "execution_count": 10,
   "metadata": {},
   "outputs": [
    {
     "name": "stdout",
     "output_type": "stream",
     "text": [
      "delta 0.09812972204349545\n",
      "cohen_d 0.08827565587021716\n",
      "controled_mean 1.2105947026486756 controled_std 5.333127618588545\n"
     ]
    },
    {
     "data": {
      "text/plain": [
       "Ttest_indResult(statistic=-2.7922191380739916, pvalue=0.0052596537815636935)"
      ]
     },
     "execution_count": 10,
     "metadata": {},
     "output_type": "execute_result"
    }
   ],
   "source": [
    "controled_df = sanctioning_dataframe\n",
    "controled_std, controled_mean = statistics.stdev(controled_df[attribute]), statistics.mean(controled_df[attribute])\n",
    "delta = (target_mean - controled_mean) / controled_std\n",
    "std_pooled = sqrt((target_std ** 2 + controled_std ** 2) / 2)\n",
    "cohen_d = (target_mean - controled_mean) / std_pooled\n",
    "print('delta', delta)\n",
    "print('cohen_d', cohen_d)\n",
    "print('controled_mean', controled_mean, 'controled_std', controled_std)\n",
    "stats.ttest_ind(controled_df[attribute], target_df[attribute], equal_var = True)"
   ]
  },
  {
   "cell_type": "code",
   "execution_count": 11,
   "metadata": {},
   "outputs": [
    {
     "name": "stdout",
     "output_type": "stream",
     "text": [
      "delta 0.13611171712320105\n",
      "cohen_d 0.11449923943376775\n",
      "controled_mean 1.0823588205897052 controled_std 4.787054536265845\n"
     ]
    },
    {
     "data": {
      "text/plain": [
       "Ttest_indResult(statistic=-3.6216889525229434, pvalue=0.0002963165406946717)"
      ]
     },
     "execution_count": 11,
     "metadata": {},
     "output_type": "execute_result"
    }
   ],
   "source": [
    "controled_df = emotion_dataframe\n",
    "controled_std, controled_mean = statistics.stdev(controled_df[attribute]), statistics.mean(controled_df[attribute])\n",
    "delta = (target_mean - controled_mean) / controled_std\n",
    "std_pooled = sqrt((target_std ** 2 + controled_std ** 2) / 2)\n",
    "cohen_d = (target_mean - controled_mean) / std_pooled\n",
    "print('delta', delta)\n",
    "print('cohen_d', cohen_d)\n",
    "print('controled_mean', controled_mean, 'controled_std', controled_std)\n",
    "stats.ttest_ind(controled_df[attribute], target_df[attribute], equal_var = True)"
   ]
  },
  {
   "cell_type": "code",
   "execution_count": 12,
   "metadata": {},
   "outputs": [
    {
     "name": "stdout",
     "output_type": "stream",
     "text": [
      "delta 0.3729406123267494\n",
      "cohen_d 0.23821293784419761\n",
      "controled_mean 0.5125687156421789 controled_std 3.2749565948880606\n"
     ]
    },
    {
     "data": {
      "text/plain": [
       "Ttest_indResult(statistic=-7.534837520361122, pvalue=6.011269826542464e-14)"
      ]
     },
     "execution_count": 12,
     "metadata": {},
     "output_type": "execute_result"
    }
   ],
   "source": [
    "controled_df = message_dataframe\n",
    "controled_std, controled_mean = statistics.stdev(controled_df[attribute]), statistics.mean(controled_df[attribute])\n",
    "delta = (target_mean - controled_mean) / controled_std\n",
    "std_pooled = sqrt((target_std ** 2 + controled_std ** 2) / 2)\n",
    "cohen_d = (target_mean - controled_mean) / std_pooled\n",
    "print('delta', delta)\n",
    "print('cohen_d', cohen_d)\n",
    "print('controled_mean', controled_mean, 'controled_std', controled_std)\n",
    "stats.ttest_ind(controled_df[attribute], target_df[attribute], equal_var = True)"
   ]
  },
  {
   "cell_type": "code",
   "execution_count": null,
   "metadata": {},
   "outputs": [],
   "source": []
  },
  {
   "cell_type": "code",
   "execution_count": null,
   "metadata": {},
   "outputs": [],
   "source": []
  },
  {
   "cell_type": "code",
   "execution_count": null,
   "metadata": {},
   "outputs": [],
   "source": []
  },
  {
   "cell_type": "code",
   "execution_count": null,
   "metadata": {},
   "outputs": [],
   "source": []
  }
 ],
 "metadata": {
  "kernelspec": {
   "display_name": "Python 3",
   "language": "python",
   "name": "python3"
  },
  "language_info": {
   "codemirror_mode": {
    "name": "ipython",
    "version": 3
   },
   "file_extension": ".py",
   "mimetype": "text/x-python",
   "name": "python",
   "nbconvert_exporter": "python",
   "pygments_lexer": "ipython3",
   "version": "3.8.10"
  }
 },
 "nbformat": 4,
 "nbformat_minor": 4
}
